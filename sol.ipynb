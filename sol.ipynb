{
 "cells": [
  {
   "cell_type": "code",
   "execution_count": null,
   "id": "01J0EATXSQNGH3WXQYWY8JC7YC",
   "metadata": {},
   "outputs": [],
   "source": [
    "# Cell 1: Import necessary libraries and initialize Spark session\n",
    "import pyspark\n",
    "from pyspark.sql import SparkSession\n",
    "from pprint import pprint\n",
    "from pyspark.sql.functions import col, regexp_replace, when\n",
    "from pyspark.ml.feature import VectorAssembler, StandardScaler, PCA\n",
    "from pyspark.ml.clustering import KMeans\n",
    "from pyspark.ml.evaluation import ClusteringEvaluator\n",
    "import matplotlib.pyplot as plt\n",
    "import numpy as np\n",
    "\n",
    "# Initialize Spark session\n",
    "spark = SparkSession.builder.appName(\"FIFA Clustering\").getOrCreate()\n"
   ]
  },
  {
   "cell_type": "code",
   "execution_count": null,
   "id": "01J0EAV2P96KPW5DPCQ1BNZBDT",
   "metadata": {},
   "outputs": [],
   "source": [
    "# Cell 2: Read the data and display the schema\n",
    "# Read the data\n",
    "data = spark.read.csv(\"dataFIFA.csv\", header=True, inferSchema=True)\n",
    "\n",
    "# Display the schema\n",
    "data.printSchema()\n"
   ]
  },
  {
   "cell_type": "code",
   "execution_count": null,
   "id": "01J0EAV4ZM9HCH6B9XPCEQ4853",
   "metadata": {},
   "outputs": [],
   "source": [
    "# Cell 3: Select relevant columns and handle missing values, including converting Wage to numeric\n",
    "# Select relevant columns and handle missing values\n",
    "selected_features = [\"Name\", \"Overall\", \"Potential\", \"Age\", \"Stamina\", \"Dribbling\", \"Wage\"]\n",
    "data = data.select(selected_features).dropna()\n",
    "\n",
    "# Function to convert to numeric, handling \"M\" for millions and \"K\" for thousands\n",
    "def convert_currency(col):\n",
    "    return (\n",
    "        when(col.endswith(\"M\"), regexp_replace(col, \"[€M]\", \"\").cast(\"double\") * 1e6)\n",
    "        .when(col.endswith(\"K\"), regexp_replace(col, \"[€K]\", \"\").cast(\"double\") * 1e3)\n",
    "        .otherwise(regexp_replace(col, \"€\", \"\").cast(\"double\"))\n",
    "    )\n",
    "\n",
    "# Convert Wage to numeric\n",
    "data = data.withColumn(\"Wage\", convert_currency(col(\"Wage\")))\n"
   ]
  },
  {
   "cell_type": "code",
   "execution_count": null,
   "id": "01J0EAVA1858M50DPYKFCYM4N3",
   "metadata": {},
   "outputs": [],
   "source": [
    "# Cell 4: Assemble features into a feature vector and standardize the features\n",
    "# Assemble features into a feature vector\n",
    "assembler = VectorAssembler(inputCols=[\"Overall\", \"Potential\", \"Age\", \"Stamina\", \"Dribbling\"], outputCol=\"features\")\n",
    "data = assembler.transform(data)\n",
    "\n",
    "# Standardizing the features\n",
    "scaler = StandardScaler(inputCol=\"features\", outputCol=\"scaledFeatures\")\n",
    "scalerModel = scaler.fit(data)\n",
    "data = scalerModel.transform(data)\n"
   ]
  },
  {
   "cell_type": "code",
   "execution_count": null,
   "id": "01J0EAVJMKRSX8Q5YVX13DG04A",
   "metadata": {},
   "outputs": [],
   "source": [
    "# Cell 5: Finding the top 10 players with the highest salaries\n",
    "top_10_salaries = data.orderBy(data['Wage'].desc()).limit(10)\n",
    "top_10_salaries_wages = [row['Wage'] for row in top_10_salaries.select(\"Wage\").collect()]\n",
    "top_10_salaries_names = [row['Name'] for row in top_10_salaries.select(\"Name\").collect()]\n"
   ]
  },
  {
   "cell_type": "code",
   "execution_count": null,
   "id": "01J0EAVRQ39140A9QGCYZT6RC0",
   "metadata": {},
   "outputs": [],
   "source": [
    "# Cell 6: Find the optimal number of clusters with a higher range\n",
    "silhouette_scores = []\n",
    "evaluator = ClusteringEvaluator(predictionCol='prediction', metricName='silhouette', featuresCol='scaledFeatures')\n",
    "\n",
    "for k in range(2, 11):  # Trying a range of clusters\n",
    "    kmeans = KMeans(k=k, featuresCol='scaledFeatures', seed=1)\n",
    "    model = kmeans.fit(data)\n",
    "    predictions = model.transform(data)\n",
    "    silhouette = evaluator.evaluate(predictions)\n",
    "    silhouette_scores.append((k, silhouette))\n",
    "\n",
    "optimal_clusters = max(silhouette_scores, key=lambda x: x[1])[0]\n",
    "print(f\"Optimal number of clusters: {optimal_clusters}\")\n"
   ]
  },
  {
   "cell_type": "code",
   "execution_count": null,
   "id": "01J0EAVYBWNZM68SFBAE066FS4",
   "metadata": {},
   "outputs": [],
   "source": [
    "# Cell 7: Evaluate clustering on original features\n",
    "evaluator = ClusteringEvaluator(predictionCol='prediction', metricName='silhouette', featuresCol='scaledFeatures')\n",
    "kmeans = KMeans(k=optimal_clusters, featuresCol='scaledFeatures', seed=1)\n",
    "model = kmeans.fit(data)\n",
    "predictions = model.transform(data)\n",
    "original_silhouette = evaluator.evaluate(predictions)\n"
   ]
  },
  {
   "cell_type": "code",
   "execution_count": null,
   "id": "01J0EAW6WH1BT3YAKXRHBGF4SK",
   "metadata": {},
   "outputs": [],
   "source": [
    "# Cell 8: Define function for PCA and clustering\n",
    "def apply_pca_and_cluster(n_components, data, top_10_salaries_wages):\n",
    "    pca = PCA(k=n_components, inputCol=\"scaledFeatures\", outputCol=f\"pcaFeatures_{n_components}\")\n",
    "    pca_model = pca.fit(data)\n",
    "    pca_data = pca_model.transform(data)\n",
    "\n",
    "    kmeans = KMeans(k=optimal_clusters, featuresCol=f'pcaFeatures_{n_components}', seed=1)\n",
    "    model = kmeans.fit(pca_data)\n",
    "    predictions = model.transform(pca_data)\n",
    "    \n",
    "    cluster_summary = predictions.groupBy('prediction').count().orderBy('prediction')\n",
    "    cluster_summary.show()\n",
    "    \n",
    "    # Count the number of top 10 salary players in each cluster\n",
    "    top_10_predictions = predictions.filter(predictions[\"Wage\"].isin(top_10_salaries_wages))\n",
    "    cluster_counts = top_10_predictions.groupBy('prediction').count().orderBy('prediction').collect()\n",
    "    \n",
    "    return cluster_counts, evaluator.evaluate(predictions)\n"
   ]
  },
  {
   "cell_type": "code",
   "execution_count": null,
   "id": "01J0EAWD6CW6YMPHAXZ14SAZDF",
   "metadata": {},
   "outputs": [],
   "source": [
    "# Cell 9: Apply PCA and clustering with 5, 4, and 3 components\n",
    "components = [5, 4, 3]\n",
    "cluster_results = {}\n",
    "pca_silhouettes = {}\n",
    "for n in components:\n",
    "    print(f\"For {n} components:\")\n",
    "    cluster_results[n], silhouette = apply_pca_and_cluster(n, data, top_10_salaries_wages)\n",
    "    pca_silhouettes[n] = silhouette\n"
   ]
  },
  {
   "cell_type": "code",
   "execution_count": null,
   "id": "01J0EAWJNGN2KSV6RTCV016VGG",
   "metadata": {},
   "outputs": [],
   "source": [
    "# Cell 10: Display results in a table for 5, 4, and 3 components\n",
    "for n in components:\n",
    "    print(f\"PCA with {n} components:\")\n",
    "    print(\"+----------+-----+\")\n",
    "    print(\"|clusterID |The number of players from the 10 players with biggest salary |\")\n",
    "    print(\"+----------+-----+\")\n",
    "\n",
    "    # Create a dictionary to hold the counts of top salary players in each cluster\n",
    "    cluster_counts = {cluster: 0 for cluster in range(optimal_clusters)}\n",
    "    \n",
    "    # Count the number of top 10 salary players in each cluster\n",
    "    for row in cluster_results[n]:\n",
    "        cluster_counts[row['prediction']] += row['count']\n",
    "    \n",
    "    # Use pprint to display the results in a pretty format\n",
    "    pprint([{ 'clusterID': cluster, 'top_10_count': count } for cluster, count in cluster_counts.items()])\n",
    "    \n",
    "    print(\"+----------+-----+\")\n",
    "\n",
    "# Compare silhouette scores\n",
    "print(f\"Silhouette score for original features: {original_silhouette}\")\n",
    "for n in components:\n",
    "    print(f\"Silhouette score for PCA with {n} components: {pca_silhouettes[n]}\")\n"
   ]
  },
  {
   "cell_type": "code",
   "execution_count": null,
   "id": "01J0EAWQAC6BGDH6271G9GK0QJ",
   "metadata": {},
   "outputs": [],
   "source": [
    "# Cell 11: Apply PCA to reduce the dimensions to 2 components and plot the results\n",
    "pca = PCA(k=2, inputCol=\"scaledFeatures\", outputCol=\"pcaFeatures_2\")\n",
    "pca_model = pca.fit(data)\n",
    "pca_data = pca_model.transform(data)\n",
    "\n",
    "# Clustering using KMeans with the new optimal number of clusters\n",
    "kmeans = KMeans(k=optimal_clusters, featuresCol='pcaFeatures_2', seed=1)\n",
    "model = kmeans.fit(pca_data)\n",
    "predictions = model.transform(pca_data)\n"
   ]
  },
  {
   "cell_type": "code",
   "execution_count": null,
   "id": "01J0EAWWYY2C944GWA13X3SHMM",
   "metadata": {},
   "outputs": [],
   "source": [
    "# Cell 12: Plotting the results with updated clusters\n",
    "pca_features = np.array(pca_data.select(\"pcaFeatures_2\").rdd.map(lambda row: row[0]).collect())\n",
    "cluster_assignments = np.array(predictions.select(\"prediction\").rdd.map(lambda row: row[0]).collect())\n",
    "wages = np.array(predictions.select(\"Wage\").rdd.map(lambda row: row[0]).collect())\n",
    "names = np.array(predictions.select(\"Name\").rdd.map(lambda row: row[0]).collect())\n",
    "\n",
    "top_10_wages_set = set(top_10_salaries_wages)\n",
    "top_10_names_set = set(top_10_salaries_names)\n",
    "\n",
    "plt.figure(figsize=(10, 6))\n",
    "scatter = plt.scatter(pca_features[:, 0], pca_features[:, 1], c=cluster_assignments, cmap='viridis', marker='o', label='Clusters')\n",
    "\n",
    "# Highlighting top 10 players with the biggest salary and labeling with player names\n",
    "labeled_names = set()\n",
    "for i in range(len(pca_features)):\n",
    "    if names[i] in top_10_names_set and names[i] not in labeled_names:\n",
    "        plt.scatter(pca_features[i, 0], pca_features[i, 1], color='red', edgecolors='w', s=200)\n",
    "        plt.text(pca_features[i, 0], pca_features[i, 1], names[i], fontsize=9, ha='right')\n",
    "        labeled_names.add(names[i])\n",
    "\n",
    "plt.title('2D PCA Plot of Clusters and Top 10 Salary Players')\n",
    "plt.xlabel('PCA Feature 1')\n",
    "plt.ylabel('PCA Feature 2')\n",
    "plt.legend()\n",
    "plt.show()\n"
   ]
  },
  {
   "cell_type": "code",
   "execution_count": null,
   "id": "01J0EBA6QAMH9PAB1TRNRFPXSK",
   "metadata": {},
   "outputs": [],
   "source": [
    "# Cell 13: Print the players with the biggest wage\n",
    "print(\"Players with the highest wages:\")\n",
    "for i, wage in enumerate(top_10_salaries_wages):\n",
    "    print(f\"Player: {top_10_salaries_names[i]}, Wage: €{wage:.0f}\")"
   ]
  }
 ],
 "metadata": {
  "kernelspec": {
   "display_name": "myenv",
   "language": "python",
   "name": "python3"
  },
  "language_info": {
   "codemirror_mode": {
    "name": "ipython",
    "version": 3
   },
   "file_extension": ".py",
   "mimetype": "text/x-python",
   "name": "python",
   "nbconvert_exporter": "python",
   "pygments_lexer": "ipython3",
   "version": "3.12.3"
  }
 },
 "nbformat": 4,
 "nbformat_minor": 2
}
